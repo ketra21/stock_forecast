{
 "cells": [
  {
   "cell_type": "code",
   "execution_count": 24,
   "metadata": {},
   "outputs": [],
   "source": [
    "from sklearn.linear_model import LinearRegression\n",
    "import tushare as ts\n",
    "df = ts.get_hist_data(\"601398\")"
   ]
  },
  {
   "cell_type": "code",
   "execution_count": 8,
   "metadata": {},
   "outputs": [
    {
     "data": {
      "text/html": [
       "<div>\n",
       "<style scoped>\n",
       "    .dataframe tbody tr th:only-of-type {\n",
       "        vertical-align: middle;\n",
       "    }\n",
       "\n",
       "    .dataframe tbody tr th {\n",
       "        vertical-align: top;\n",
       "    }\n",
       "\n",
       "    .dataframe thead th {\n",
       "        text-align: right;\n",
       "    }\n",
       "</style>\n",
       "<table border=\"1\" class=\"dataframe\">\n",
       "  <thead>\n",
       "    <tr style=\"text-align: right;\">\n",
       "      <th></th>\n",
       "      <th>open</th>\n",
       "      <th>high</th>\n",
       "      <th>close</th>\n",
       "      <th>low</th>\n",
       "      <th>volume</th>\n",
       "      <th>price_change</th>\n",
       "      <th>p_change</th>\n",
       "      <th>ma5</th>\n",
       "      <th>ma10</th>\n",
       "      <th>ma20</th>\n",
       "      <th>v_ma5</th>\n",
       "      <th>v_ma10</th>\n",
       "      <th>v_ma20</th>\n",
       "    </tr>\n",
       "    <tr>\n",
       "      <th>date</th>\n",
       "      <th></th>\n",
       "      <th></th>\n",
       "      <th></th>\n",
       "      <th></th>\n",
       "      <th></th>\n",
       "      <th></th>\n",
       "      <th></th>\n",
       "      <th></th>\n",
       "      <th></th>\n",
       "      <th></th>\n",
       "      <th></th>\n",
       "      <th></th>\n",
       "      <th></th>\n",
       "    </tr>\n",
       "  </thead>\n",
       "  <tbody>\n",
       "    <tr>\n",
       "      <th>2019-04-22</th>\n",
       "      <td>5.99</td>\n",
       "      <td>6.00</td>\n",
       "      <td>5.83</td>\n",
       "      <td>5.81</td>\n",
       "      <td>2731242.50</td>\n",
       "      <td>-0.15</td>\n",
       "      <td>-2.51</td>\n",
       "      <td>5.952</td>\n",
       "      <td>5.856</td>\n",
       "      <td>5.732</td>\n",
       "      <td>3179236.05</td>\n",
       "      <td>2915893.46</td>\n",
       "      <td>3190728.34</td>\n",
       "    </tr>\n",
       "    <tr>\n",
       "      <th>2019-04-19</th>\n",
       "      <td>5.94</td>\n",
       "      <td>6.01</td>\n",
       "      <td>5.98</td>\n",
       "      <td>5.94</td>\n",
       "      <td>1845142.25</td>\n",
       "      <td>0.04</td>\n",
       "      <td>0.67</td>\n",
       "      <td>5.948</td>\n",
       "      <td>5.855</td>\n",
       "      <td>5.720</td>\n",
       "      <td>3579982.45</td>\n",
       "      <td>3072136.56</td>\n",
       "      <td>3149786.24</td>\n",
       "    </tr>\n",
       "    <tr>\n",
       "      <th>2019-04-18</th>\n",
       "      <td>6.01</td>\n",
       "      <td>6.03</td>\n",
       "      <td>5.94</td>\n",
       "      <td>5.93</td>\n",
       "      <td>2164784.00</td>\n",
       "      <td>-0.07</td>\n",
       "      <td>-1.17</td>\n",
       "      <td>5.898</td>\n",
       "      <td>5.838</td>\n",
       "      <td>5.700</td>\n",
       "      <td>3518181.52</td>\n",
       "      <td>3340076.29</td>\n",
       "      <td>3173315.84</td>\n",
       "    </tr>\n",
       "    <tr>\n",
       "      <th>2019-04-17</th>\n",
       "      <td>5.99</td>\n",
       "      <td>6.08</td>\n",
       "      <td>6.01</td>\n",
       "      <td>5.96</td>\n",
       "      <td>3642939.00</td>\n",
       "      <td>0.01</td>\n",
       "      <td>0.17</td>\n",
       "      <td>5.856</td>\n",
       "      <td>5.814</td>\n",
       "      <td>5.684</td>\n",
       "      <td>3519477.42</td>\n",
       "      <td>3449884.61</td>\n",
       "      <td>3183199.14</td>\n",
       "    </tr>\n",
       "    <tr>\n",
       "      <th>2019-04-16</th>\n",
       "      <td>5.78</td>\n",
       "      <td>6.03</td>\n",
       "      <td>6.00</td>\n",
       "      <td>5.75</td>\n",
       "      <td>5512072.50</td>\n",
       "      <td>0.19</td>\n",
       "      <td>3.27</td>\n",
       "      <td>5.804</td>\n",
       "      <td>5.779</td>\n",
       "      <td>5.666</td>\n",
       "      <td>3273362.22</td>\n",
       "      <td>3478066.74</td>\n",
       "      <td>3123925.73</td>\n",
       "    </tr>\n",
       "  </tbody>\n",
       "</table>\n",
       "</div>"
      ],
      "text/plain": [
       "            open  high  close   low      volume  price_change  p_change  \\\n",
       "date                                                                      \n",
       "2019-04-22  5.99  6.00   5.83  5.81  2731242.50         -0.15     -2.51   \n",
       "2019-04-19  5.94  6.01   5.98  5.94  1845142.25          0.04      0.67   \n",
       "2019-04-18  6.01  6.03   5.94  5.93  2164784.00         -0.07     -1.17   \n",
       "2019-04-17  5.99  6.08   6.01  5.96  3642939.00          0.01      0.17   \n",
       "2019-04-16  5.78  6.03   6.00  5.75  5512072.50          0.19      3.27   \n",
       "\n",
       "              ma5   ma10   ma20       v_ma5      v_ma10      v_ma20  \n",
       "date                                                                 \n",
       "2019-04-22  5.952  5.856  5.732  3179236.05  2915893.46  3190728.34  \n",
       "2019-04-19  5.948  5.855  5.720  3579982.45  3072136.56  3149786.24  \n",
       "2019-04-18  5.898  5.838  5.700  3518181.52  3340076.29  3173315.84  \n",
       "2019-04-17  5.856  5.814  5.684  3519477.42  3449884.61  3183199.14  \n",
       "2019-04-16  5.804  5.779  5.666  3273362.22  3478066.74  3123925.73  "
      ]
     },
     "execution_count": 8,
     "metadata": {},
     "output_type": "execute_result"
    }
   ],
   "source": [
    "df.head()"
   ]
  },
  {
   "cell_type": "code",
   "execution_count": 14,
   "metadata": {},
   "outputs": [
    {
     "name": "stderr",
     "output_type": "stream",
     "text": [
      "D:\\ProgramData\\Anaconda3\\lib\\site-packages\\ipykernel_launcher.py:5: DeprecationWarning: \n",
      ".ix is deprecated. Please use\n",
      ".loc for label based indexing or\n",
      ".iloc for positional indexing\n",
      "\n",
      "See the documentation here:\n",
      "http://pandas.pydata.org/pandas-docs/stable/indexing.html#ix-indexer-is-deprecated\n",
      "  \"\"\"\n",
      "D:\\ProgramData\\Anaconda3\\lib\\site-packages\\ipykernel_launcher.py:6: DeprecationWarning: \n",
      ".ix is deprecated. Please use\n",
      ".loc for label based indexing or\n",
      ".iloc for positional indexing\n",
      "\n",
      "See the documentation here:\n",
      "http://pandas.pydata.org/pandas-docs/stable/indexing.html#ix-indexer-is-deprecated\n",
      "  \n",
      "D:\\ProgramData\\Anaconda3\\lib\\site-packages\\ipykernel_launcher.py:7: DeprecationWarning: \n",
      ".ix is deprecated. Please use\n",
      ".loc for label based indexing or\n",
      ".iloc for positional indexing\n",
      "\n",
      "See the documentation here:\n",
      "http://pandas.pydata.org/pandas-docs/stable/indexing.html#ix-indexer-is-deprecated\n",
      "  import sys\n",
      "D:\\ProgramData\\Anaconda3\\lib\\site-packages\\ipykernel_launcher.py:8: DeprecationWarning: \n",
      ".ix is deprecated. Please use\n",
      ".loc for label based indexing or\n",
      ".iloc for positional indexing\n",
      "\n",
      "See the documentation here:\n",
      "http://pandas.pydata.org/pandas-docs/stable/indexing.html#ix-indexer-is-deprecated\n",
      "  \n",
      "D:\\ProgramData\\Anaconda3\\lib\\site-packages\\ipykernel_launcher.py:10: DeprecationWarning: \n",
      ".ix is deprecated. Please use\n",
      ".loc for label based indexing or\n",
      ".iloc for positional indexing\n",
      "\n",
      "See the documentation here:\n",
      "http://pandas.pydata.org/pandas-docs/stable/indexing.html#ix-indexer-is-deprecated\n",
      "  # Remove the CWD from sys.path while we load stuff.\n"
     ]
    }
   ],
   "source": [
    "X_train = [] \n",
    "y_train = [] \n",
    "for i in range ( 10 , df.shape [ 0 ]): \n",
    "    tmp = [] \n",
    "    tmp.append ( df.ix [ i ][ 'open' ]) \n",
    "    tmp.append ( df.ix [ i ][ 'high' ]) \n",
    "    tmp.append ( df.ix [ i ][ 'close' ]) \n",
    "    tmp.append ( df.ix [ i ][ 'low' ]) \n",
    "    X_train.append ( tmp ) \n",
    "    tmp = ( df.ix [ i ][ 'close' ] - df.ix [ i ][ 'open' ]) / df.ix [ i ][ 'open' ] \n",
    "    y_train.append ( tmp ) \n",
    "X_test = X_train [: 10 ] \n"
   ]
  },
  {
   "cell_type": "code",
   "execution_count": 19,
   "metadata": {},
   "outputs": [
    {
     "data": {
      "text/plain": [
       "600"
      ]
     },
     "execution_count": 19,
     "metadata": {},
     "output_type": "execute_result"
    }
   ],
   "source": [
    "len(y_train)"
   ]
  },
  {
   "cell_type": "code",
   "execution_count": 27,
   "metadata": {},
   "outputs": [
    {
     "data": {
      "text/html": [
       "<div>\n",
       "<style scoped>\n",
       "    .dataframe tbody tr th:only-of-type {\n",
       "        vertical-align: middle;\n",
       "    }\n",
       "\n",
       "    .dataframe tbody tr th {\n",
       "        vertical-align: top;\n",
       "    }\n",
       "\n",
       "    .dataframe thead th {\n",
       "        text-align: right;\n",
       "    }\n",
       "</style>\n",
       "<table border=\"1\" class=\"dataframe\">\n",
       "  <thead>\n",
       "    <tr style=\"text-align: right;\">\n",
       "      <th></th>\n",
       "      <th>open</th>\n",
       "      <th>high</th>\n",
       "      <th>close</th>\n",
       "      <th>low</th>\n",
       "      <th>volume</th>\n",
       "      <th>price_change</th>\n",
       "      <th>p_change</th>\n",
       "      <th>ma5</th>\n",
       "      <th>ma10</th>\n",
       "      <th>ma20</th>\n",
       "      <th>v_ma5</th>\n",
       "      <th>v_ma10</th>\n",
       "      <th>v_ma20</th>\n",
       "    </tr>\n",
       "    <tr>\n",
       "      <th>date</th>\n",
       "      <th></th>\n",
       "      <th></th>\n",
       "      <th></th>\n",
       "      <th></th>\n",
       "      <th></th>\n",
       "      <th></th>\n",
       "      <th></th>\n",
       "      <th></th>\n",
       "      <th></th>\n",
       "      <th></th>\n",
       "      <th></th>\n",
       "      <th></th>\n",
       "      <th></th>\n",
       "    </tr>\n",
       "  </thead>\n",
       "  <tbody>\n",
       "    <tr>\n",
       "      <th>2019-04-22</th>\n",
       "      <td>5.99</td>\n",
       "      <td>6.00</td>\n",
       "      <td>5.83</td>\n",
       "      <td>5.81</td>\n",
       "      <td>2731242.50</td>\n",
       "      <td>-0.15</td>\n",
       "      <td>-2.51</td>\n",
       "      <td>5.952</td>\n",
       "      <td>5.856</td>\n",
       "      <td>5.732</td>\n",
       "      <td>3179236.05</td>\n",
       "      <td>2915893.46</td>\n",
       "      <td>3190728.34</td>\n",
       "    </tr>\n",
       "    <tr>\n",
       "      <th>2019-04-19</th>\n",
       "      <td>5.94</td>\n",
       "      <td>6.01</td>\n",
       "      <td>5.98</td>\n",
       "      <td>5.94</td>\n",
       "      <td>1845142.25</td>\n",
       "      <td>0.04</td>\n",
       "      <td>0.67</td>\n",
       "      <td>5.948</td>\n",
       "      <td>5.855</td>\n",
       "      <td>5.720</td>\n",
       "      <td>3579982.45</td>\n",
       "      <td>3072136.56</td>\n",
       "      <td>3149786.24</td>\n",
       "    </tr>\n",
       "    <tr>\n",
       "      <th>2019-04-18</th>\n",
       "      <td>6.01</td>\n",
       "      <td>6.03</td>\n",
       "      <td>5.94</td>\n",
       "      <td>5.93</td>\n",
       "      <td>2164784.00</td>\n",
       "      <td>-0.07</td>\n",
       "      <td>-1.17</td>\n",
       "      <td>5.898</td>\n",
       "      <td>5.838</td>\n",
       "      <td>5.700</td>\n",
       "      <td>3518181.52</td>\n",
       "      <td>3340076.29</td>\n",
       "      <td>3173315.84</td>\n",
       "    </tr>\n",
       "    <tr>\n",
       "      <th>2019-04-17</th>\n",
       "      <td>5.99</td>\n",
       "      <td>6.08</td>\n",
       "      <td>6.01</td>\n",
       "      <td>5.96</td>\n",
       "      <td>3642939.00</td>\n",
       "      <td>0.01</td>\n",
       "      <td>0.17</td>\n",
       "      <td>5.856</td>\n",
       "      <td>5.814</td>\n",
       "      <td>5.684</td>\n",
       "      <td>3519477.42</td>\n",
       "      <td>3449884.61</td>\n",
       "      <td>3183199.14</td>\n",
       "    </tr>\n",
       "    <tr>\n",
       "      <th>2019-04-16</th>\n",
       "      <td>5.78</td>\n",
       "      <td>6.03</td>\n",
       "      <td>6.00</td>\n",
       "      <td>5.75</td>\n",
       "      <td>5512072.50</td>\n",
       "      <td>0.19</td>\n",
       "      <td>3.27</td>\n",
       "      <td>5.804</td>\n",
       "      <td>5.779</td>\n",
       "      <td>5.666</td>\n",
       "      <td>3273362.22</td>\n",
       "      <td>3478066.74</td>\n",
       "      <td>3123925.73</td>\n",
       "    </tr>\n",
       "  </tbody>\n",
       "</table>\n",
       "</div>"
      ],
      "text/plain": [
       "            open  high  close   low      volume  price_change  p_change  \\\n",
       "date                                                                      \n",
       "2019-04-22  5.99  6.00   5.83  5.81  2731242.50         -0.15     -2.51   \n",
       "2019-04-19  5.94  6.01   5.98  5.94  1845142.25          0.04      0.67   \n",
       "2019-04-18  6.01  6.03   5.94  5.93  2164784.00         -0.07     -1.17   \n",
       "2019-04-17  5.99  6.08   6.01  5.96  3642939.00          0.01      0.17   \n",
       "2019-04-16  5.78  6.03   6.00  5.75  5512072.50          0.19      3.27   \n",
       "\n",
       "              ma5   ma10   ma20       v_ma5      v_ma10      v_ma20  \n",
       "date                                                                 \n",
       "2019-04-22  5.952  5.856  5.732  3179236.05  2915893.46  3190728.34  \n",
       "2019-04-19  5.948  5.855  5.720  3579982.45  3072136.56  3149786.24  \n",
       "2019-04-18  5.898  5.838  5.700  3518181.52  3340076.29  3173315.84  \n",
       "2019-04-17  5.856  5.814  5.684  3519477.42  3449884.61  3183199.14  \n",
       "2019-04-16  5.804  5.779  5.666  3273362.22  3478066.74  3123925.73  "
      ]
     },
     "execution_count": 27,
     "metadata": {},
     "output_type": "execute_result"
    }
   ],
   "source": [
    "df.head()"
   ]
  },
  {
   "cell_type": "code",
   "execution_count": 25,
   "metadata": {},
   "outputs": [
    {
     "data": {
      "text/plain": [
       "[[5.85, 5.98, 5.82, 5.78],\n",
       " [5.7, 5.83, 5.81, 5.69],\n",
       " [5.6, 5.71, 5.7, 5.6],\n",
       " [5.66, 5.7, 5.66, 5.64],\n",
       " [5.59, 5.66, 5.64, 5.59],\n",
       " [5.47, 5.58, 5.57, 5.46],\n",
       " [5.49, 5.5, 5.45, 5.44],\n",
       " [5.46, 5.54, 5.51, 5.45],\n",
       " [5.49, 5.49, 5.45, 5.43],\n",
       " [5.53, 5.55, 5.47, 5.46]]"
      ]
     },
     "execution_count": 25,
     "metadata": {},
     "output_type": "execute_result"
    }
   ],
   "source": [
    "X_train[:10]"
   ]
  },
  {
   "cell_type": "code",
   "execution_count": 26,
   "metadata": {},
   "outputs": [
    {
     "data": {
      "text/plain": [
       "[-0.005128205128205019,\n",
       " 0.019298245614034988,\n",
       " 0.017857142857142953,\n",
       " 0.0,\n",
       " 0.008944543828264727,\n",
       " 0.018281535648994613,\n",
       " -0.007285974499089259,\n",
       " 0.009157509157509125,\n",
       " -0.007285974499089259,\n",
       " -0.01084990958408689]"
      ]
     },
     "execution_count": 26,
     "metadata": {},
     "output_type": "execute_result"
    }
   ],
   "source": [
    "y_train[:10]"
   ]
  },
  {
   "cell_type": "code",
   "execution_count": 22,
   "metadata": {},
   "outputs": [
    {
     "data": {
      "text/plain": [
       "LinearRegression(copy_X=True, fit_intercept=True, n_jobs=1, normalize=False)"
      ]
     },
     "execution_count": 22,
     "metadata": {},
     "output_type": "execute_result"
    }
   ],
   "source": [
    "linreg = LinearRegression() \n",
    "linreg.fit( X_train , y_train )"
   ]
  },
  {
   "cell_type": "code",
   "execution_count": 23,
   "metadata": {},
   "outputs": [
    {
     "name": "stdout",
     "output_type": "stream",
     "text": [
      "[-0.00461759  0.01862084  0.01682816 -0.00028103  0.00819028  0.01703901\n",
      " -0.0067524   0.00844903 -0.00670531 -0.00993229]\n"
     ]
    }
   ],
   "source": [
    "y_pred = linreg.predict( X_test ) \n",
    "print ( y_pred )"
   ]
  }
 ],
 "metadata": {
  "kernelspec": {
   "display_name": "Python 3",
   "language": "python",
   "name": "python3"
  },
  "language_info": {
   "codemirror_mode": {
    "name": "ipython",
    "version": 3
   },
   "file_extension": ".py",
   "mimetype": "text/x-python",
   "name": "python",
   "nbconvert_exporter": "python",
   "pygments_lexer": "ipython3",
   "version": "3.6.6"
  }
 },
 "nbformat": 4,
 "nbformat_minor": 2
}
